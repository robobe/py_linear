{
 "cells": [
  {
   "cell_type": "code",
   "execution_count": 2,
   "metadata": {},
   "outputs": [],
   "source": [
    "import numpy as np\n",
    "import matplotlib.pyplot as plt"
   ]
  },
  {
   "cell_type": "code",
   "execution_count": 3,
   "metadata": {},
   "outputs": [
    {
     "data": {
      "image/png": "[encoded data removed]",
      "text/plain": [
       "<Figure size 432x288 with 1 Axes>"
      ]
     },
     "metadata": {
      "needs_background": "light"
     },
     "output_type": "display_data"
    }
   ],
   "source": [
    "p1 = np.array([1, 1])\n",
    "p2 = np.array([1, 1])\n",
    "plt.figure()\n",
    "ax = plt.gca() # get current axes\n",
    "ax.quiver(*p1, *p2, angles='xy', scale_units='xy', scale=1, color=['red'])\n",
    "ax.set_xlim([-1, 10])\n",
    "ax.set_ylim([-1, 10])\n",
    "plt.draw()\n",
    "plt.show()"
   ]
  },
  {
   "cell_type": "code",
   "execution_count": 28,
   "metadata": {},
   "outputs": [
    {
     "name": "stdout",
     "output_type": "stream",
     "text": [
      "(2,)\n",
      "(2, 1)\n",
      "(1, 2)\n"
     ]
    },
    {
     "data": {
      "image/png": "[encoded data removed]",
      "text/plain": [
       "<Figure size 432x288 with 1 Axes>"
      ]
     },
     "metadata": {
      "needs_background": "light"
     },
     "output_type": "display_data"
    }
   ],
   "source": [
    "p1 = np.array([0, 0])\n",
    "p2 = np.array([[1],[1]])\n",
    "\n",
    "print(p1.shape)\n",
    "print(p2.shape)\n",
    "print(p2.T.shape)\n",
    "scaled_vector = np.dot(5, p2)\n",
    "\n",
    "plt.figure()\n",
    "ax = plt.gca()\n",
    "ax.quiver(*p1, *scaled_vector, angles='xy', scale_units='xy', scale=1, color=['red', 'green', 'yellow'])\n",
    "ax.set_xlim([-1, 10])\n",
    "ax.set_ylim([-1, 10])\n",
    "plt.draw()\n",
    "plt.show()"
   ]
  },
  {
   "cell_type": "code",
   "execution_count": 25,
   "metadata": {},
   "outputs": [
    {
     "data": {
      "image/png": "[encoded data removed]",
      "text/plain": [
       "<Figure size 432x288 with 1 Axes>"
      ]
     },
     "metadata": {
      "needs_background": "light"
     },
     "output_type": "display_data"
    }
   ],
   "source": [
    "p1 = np.array([0, 0])\n",
    "p2 = np.array([[4, 0]]).T\n",
    "theta = np.deg2rad(45)\n",
    "rotation = np.array([[np.cos(theta), -np.sin(theta)],\n",
    "                     [np.sin(theta), np.cos(theta)]\n",
    "                    ])\n",
    "rotate_vector = np.dot(rotation, p2)\n",
    "\n",
    "plt.figure()\n",
    "ax = plt.gca()\n",
    "ax.quiver(*p1, *rotate_vector, angles='xy', scale_units='xy', scale=1, color=['red', 'green', 'yellow'])\n",
    "ax.quiver(*p1, *p2.T, angles='xy', scale_units='xy', scale=1, color=['green'])\n",
    "ax.set_xlim([-1, 10])\n",
    "ax.set_ylim([-1, 10])\n",
    "plt.draw()\n",
    "plt.show()\n"
   ]
  },
  {
   "cell_type": "code",
   "execution_count": 46,
   "metadata": {},
   "outputs": [
    {
     "name": "stdout",
     "output_type": "stream",
     "text": [
      "[[4]\n",
      " [0]\n",
      " [0]]\n",
      "[[4]\n",
      " [0]\n",
      " [0]]\n"
     ]
    }
   ],
   "source": [
    "p1 = np.array([[0, 0, 1]]).T\n",
    "p2 = np.array([[4, 0, 1]]).T\n",
    "v1 = p2-p1\n",
    "translation = np.array([[1, 0, 2],\n",
    "                        [0, 1, 2],\n",
    "                        [0, 0, 1]\n",
    "                        ])\n",
    "# translate_origin = np.dot(translation, origin)\n",
    "translate_vector = np.dot(translation, v1)\n",
    "print(translate_vector)\n",
    "print(v1)\n",
    "# plt.figure()\n",
    "# ax = plt.gca()\n",
    "\n",
    "# ax.quiver(*(*origin), *v_vector.T, angles='xy', scale_units='xy', scale=1, color=['red', 'green', 'yellow'])\n",
    "# # ax.quiver(*origin, *vector.T, angles='xy', scale_units='xy', scale=1, color=['green'])\n",
    "# ax.set_xlim([-1, 10])\n",
    "# ax.set_ylim([-1, 10])\n",
    "# plt.draw()\n",
    "# plt.show()"
   ]
  },
  {
   "cell_type": "code",
   "execution_count": 30,
   "metadata": {},
   "outputs": [
    {
     "name": "stdout",
     "output_type": "stream",
     "text": [
      "<class 'numpy.ndarray'>\n",
      "(2,)\n"
     ]
    }
   ],
   "source": [
    "p1 = np.array([1, 1])\n",
    "p2 = np.array([2, 2])\n",
    "result = p2 - p1\n",
    "print(type(result))\n",
    "print(result.shape)"
   ]
  }
 ],
 "metadata": {
  "kernelspec": {
   "display_name": "Python 3",
   "language": "python",
   "name": "python3"
  },
  "language_info": {
   "codemirror_mode": {
    "name": "ipython",
    "version": 3
   },
   "file_extension": ".py",
   "mimetype": "text/x-python",
   "name": "python",
   "nbconvert_exporter": "python",
   "pygments_lexer": "ipython3",
   "version": "3.10.12"
  },
  "orig_nbformat": 4
 },
 "nbformat": 4,
 "nbformat_minor": 2
}
